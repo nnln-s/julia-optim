{
 "cells": [
  {
   "cell_type": "markdown",
   "metadata": {},
   "source": [
    "## Linear Optimization using JuMP"
   ]
  },
  {
   "cell_type": "raw",
   "metadata": {},
   "source": [
    "Simple application to a farming problem.\n",
    "\n",
    "This example was adapted from https://web.sonoma.edu/users/w/wilsonst/courses/math_131/lp/Farm.html\n",
    "\n",
    "A farmer has 10 acres to plant crops. He decides to plant tomatoes and cucumbers. He has a budget of $1,200 and planting each acre of tomatoes costs $200, while each acre of cucumbers costs $100. Furthermore, he has to get all the planting done in 12 hours total, and planting each acre of tomatoes takes 1 hour, while each acre of cucumbers takes 2 hours. Finally, he can expect a profit of $500 per acre of tomotoes, and $300 per acre of cucumbers. How many acres of each crop should he plant in order to maximize profits?\n",
    "\n",
    "This is a problem that can be solved by linear optimization.\n",
    "\n",
    "In this case, our unknowns (variables) are how many acres of tomatoes and how many acres of cucumbers to plant. So we will let \n",
    "\n",
    "tom = number of acres of tomatoes to plant\n",
    "cuc = number of acres of cucumbers to plant"
   ]
  },
  {
   "cell_type": "markdown",
   "metadata": {},
   "source": [
    "So this problem can be formulated as follows\n",
    "\n",
    "Maximize:\n",
    "\n",
    "Profit = 500*tom + 300*cuc\n",
    "\n",
    "Subject to:\n",
    "\n",
    "tom + cuc <= 10\n",
    "\n",
    "200*tom + 100*cuc <= 1200\n",
    "\n",
    "1*tom + 2*cuc <= 12\n",
    "\n",
    "tom >= 0\n",
    "\n",
    "cuc >= 0"
   ]
  },
  {
   "cell_type": "markdown",
   "metadata": {},
   "source": [
    "This can be done easily in Julia using the JuMP and GLPK packages..."
   ]
  },
  {
   "cell_type": "code",
   "execution_count": 1,
   "metadata": {},
   "outputs": [],
   "source": [
    "using GLPK\n",
    "using JuMP"
   ]
  },
  {
   "cell_type": "markdown",
   "metadata": {},
   "source": [
    "#### Create an empty model with the Gnu Linear Programming Kit optimizer"
   ]
  },
  {
   "cell_type": "code",
   "execution_count": 2,
   "metadata": {},
   "outputs": [
    {
     "data": {
      "text/latex": [
       "$$ \\begin{alignat*}{1}\\text{feasibility}\\\\\n",
       "\\text{Subject to} \\quad\\end{alignat*}\n",
       " $$"
      ],
      "text/plain": [
       "A JuMP Model\n",
       "Feasibility problem with:\n",
       "Variables: 0\n",
       "Model mode: AUTOMATIC\n",
       "CachingOptimizer state: EMPTY_OPTIMIZER\n",
       "Solver name: GLPK"
      ]
     },
     "execution_count": 2,
     "metadata": {},
     "output_type": "execute_result"
    }
   ],
   "source": [
    "m = Model(GLPK.Optimizer)"
   ]
  },
  {
   "cell_type": "markdown",
   "metadata": {},
   "source": [
    "###### Define our two unknowns, which are the number of acres of each crop, where both have to be positive"
   ]
  },
  {
   "cell_type": "code",
   "execution_count": 4,
   "metadata": {},
   "outputs": [
    {
     "data": {
      "text/latex": [
       "$$ cuc $$"
      ],
      "text/plain": [
       "cuc"
      ]
     },
     "execution_count": 4,
     "metadata": {},
     "output_type": "execute_result"
    }
   ],
   "source": [
    "@variable(m, tom >= 0)\n",
    "@variable(m, cuc >= 0)"
   ]
  },
  {
   "cell_type": "markdown",
   "metadata": {},
   "source": [
    "##### Next we define our objective function, which is our profit equation above"
   ]
  },
  {
   "cell_type": "code",
   "execution_count": 5,
   "metadata": {},
   "outputs": [
    {
     "data": {
      "text/latex": [
       "$$ 500 tom + 300 cuc $$"
      ],
      "text/plain": [
       "500 tom + 300 cuc"
      ]
     },
     "execution_count": 5,
     "metadata": {},
     "output_type": "execute_result"
    }
   ],
   "source": [
    "@objective(m, Max, sum(500*tom + 300*cuc))"
   ]
  },
  {
   "cell_type": "markdown",
   "metadata": {},
   "source": [
    "##### Define the land constraint, which is that the total number of acres has to be less than 10"
   ]
  },
  {
   "cell_type": "code",
   "execution_count": 6,
   "metadata": {
    "scrolled": true
   },
   "outputs": [
    {
     "data": {
      "text/latex": [
       "$ tom + cuc \\leq 10.0 $"
      ],
      "text/plain": [
       "tom + cuc ≤ 10.0"
      ]
     },
     "execution_count": 6,
     "metadata": {},
     "output_type": "execute_result"
    }
   ],
   "source": [
    "@constraint(m, tom + cuc <= 10)"
   ]
  },
  {
   "cell_type": "markdown",
   "metadata": {},
   "source": [
    "##### Now we define our budget constraint, which is the amount spent per acre of each crop has to be at most $1200"
   ]
  },
  {
   "cell_type": "code",
   "execution_count": 7,
   "metadata": {},
   "outputs": [
    {
     "data": {
      "text/latex": [
       "$ 200 tom + 100 cuc \\leq 1200.0 $"
      ],
      "text/plain": [
       "200 tom + 100 cuc ≤ 1200.0"
      ]
     },
     "execution_count": 7,
     "metadata": {},
     "output_type": "execute_result"
    }
   ],
   "source": [
    "@constraint(m, 200*tom + 100*cuc <= 1200)"
   ]
  },
  {
   "cell_type": "markdown",
   "metadata": {},
   "source": [
    "##### Finally, our time constraint is that the planting of crops should be done in 12 hour or less"
   ]
  },
  {
   "cell_type": "code",
   "execution_count": 8,
   "metadata": {},
   "outputs": [
    {
     "data": {
      "text/latex": [
       "$ tom + 2 cuc \\leq 12.0 $"
      ],
      "text/plain": [
       "tom + 2 cuc ≤ 12.0"
      ]
     },
     "execution_count": 8,
     "metadata": {},
     "output_type": "execute_result"
    }
   ],
   "source": [
    "@constraint(m, 1*tom + 2*cuc <= 12)"
   ]
  },
  {
   "cell_type": "code",
   "execution_count": 9,
   "metadata": {},
   "outputs": [
    {
     "name": "stdout",
     "output_type": "stream",
     "text": [
      "The optimization problem to be solved is:\n",
      "Max 500 tom + 300 cuc\n",
      "Subject to\n",
      " tom + cuc ≤ 10.0\n",
      " 200 tom + 100 cuc ≤ 1200.0\n",
      " tom + 2 cuc ≤ 12.0\n",
      " tom ≥ 0.0\n",
      " cuc ≥ 0.0\n"
     ]
    }
   ],
   "source": [
    "println(\"The optimization problem to be solved is:\")\n",
    "print(m)"
   ]
  },
  {
   "cell_type": "markdown",
   "metadata": {},
   "source": [
    "##### Now we're ready to solve the problem..."
   ]
  },
  {
   "cell_type": "code",
   "execution_count": 10,
   "metadata": {},
   "outputs": [
    {
     "data": {
      "text/plain": [
       "4.0"
      ]
     },
     "execution_count": 10,
     "metadata": {},
     "output_type": "execute_result"
    }
   ],
   "source": [
    "JuMP.optimize!(m)\n",
    "optimvalue = JuMP.objective_value(m)\n",
    "Tomato = JuMP.value.(tom)\n",
    "Cucumber = JuMP.value.(cuc)"
   ]
  },
  {
   "cell_type": "markdown",
   "metadata": {},
   "source": [
    "##### And finally let's see the results"
   ]
  },
  {
   "cell_type": "code",
   "execution_count": 16,
   "metadata": {
    "scrolled": true
   },
   "outputs": [
    {
     "name": "stdout",
     "output_type": "stream",
     "text": [
      "Objective value (max profit): 3200.0\n",
      "Acres of Tomato that farmer should plant: 4.0\n",
      "Acres of Cucumber that farmer should plant: 4.0\n"
     ]
    }
   ],
   "source": [
    "println(\"Objective value (max profit): \", optimvalue)\n",
    "println(\"Acres of Tomato that farmer should plant: \", Tomato)\n",
    "println(\"Acres of Cucumber that farmer should plant: \", Cucumber)"
   ]
  },
  {
   "cell_type": "markdown",
   "metadata": {},
   "source": [
    "This can be proved graphically/manually, and this is done in the referenced site:\n",
    "\n",
    "https://web.sonoma.edu/users/w/wilsonst/courses/math_131/lp/Farm.html"
   ]
  },
  {
   "cell_type": "code",
   "execution_count": null,
   "metadata": {},
   "outputs": [],
   "source": []
  }
 ],
 "metadata": {
  "kernelspec": {
   "display_name": "Julia 1.0.5",
   "language": "julia",
   "name": "julia-1.0"
  },
  "language_info": {
   "file_extension": ".jl",
   "mimetype": "application/julia",
   "name": "julia",
   "version": "1.0.5"
  }
 },
 "nbformat": 4,
 "nbformat_minor": 2
}
